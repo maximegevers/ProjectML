{
 "cells": [
  {
   "cell_type": "markdown",
   "metadata": {},
   "source": [
    "# Predicting Malignancy of Breast Cancer"
   ]
  },
  {
   "cell_type": "markdown",
   "metadata": {},
   "source": [
    "*Vladimir STEFAN, Maxime, Ana*"
   ]
  },
  {
   "cell_type": "markdown",
   "metadata": {},
   "source": [
    "## For the project update"
   ]
  },
  {
   "cell_type": "markdown",
   "metadata": {},
   "source": [
    "** Data was read from a csv file**\n",
    "\n",
    "** Standardization gave us better accuracy than normalization, so we used that approach for our data.**\n",
    "\n",
    "** We trained all the folloig classifiers:**\n",
    "1. **Logistic Regression **\n",
    "2. **SVM**\n",
    " - **Linear**\n",
    " - **Non-linear SVM**\n",
    "3. **Random Forest**\n",
    "4. **Neural Network**\n",
    "\n",
    "** We performed 10 fold cross-validation on all of them** \n",
    "\n",
    "** We optimized the parameters of all of them**\n",
    "- **Look at the parameters that we classied**\n",
    "\n",
    "\n",
    "**We compared the accuracies of train and test data before and after optimization**\n",
    "- **Look at the accuracies that we got**\n",
    "\n",
    "**We ploted confision matrices, ROC and AUC**\n",
    "\n",
    "**We got some problems**\n",
    "- **Look at the questions after each of the classifiers below**"
   ]
  },
  {
   "cell_type": "code",
   "execution_count": 1,
   "metadata": {
    "collapsed": false
   },
   "outputs": [
    {
     "name": "stderr",
     "output_type": "stream",
     "text": [
      "C:\\Users\\Vladimir\\Anaconda3\\lib\\site-packages\\sklearn\\cross_validation.py:41: DeprecationWarning: This module was deprecated in version 0.18 in favor of the model_selection module into which all the refactored classes and functions are moved. Also note that the interface of the new CV iterators are different from that of this module. This module will be removed in 0.20.\n",
      "  \"This module will be removed in 0.20.\", DeprecationWarning)\n",
      "C:\\Users\\Vladimir\\Anaconda3\\lib\\site-packages\\sklearn\\grid_search.py:42: DeprecationWarning: This module was deprecated in version 0.18 in favor of the model_selection module into which all the refactored classes and functions are moved. This module will be removed in 0.20.\n",
      "  DeprecationWarning)\n"
     ]
    }
   ],
   "source": [
    "## Data Preprocessing\n",
    "\n",
    "import numpy as np\n",
    "from sklearn.preprocessing import StandardScaler\n",
    "from sklearn.model_selection import train_test_split\n",
    "from sklearn.linear_model import LogisticRegression\n",
    "from sklearn.grid_search import GridSearchCV\n",
    "from sklearn.model_selection import cross_val_score\n",
    "import sklearn\n",
    "%matplotlib inline\n",
    "import matplotlib.pyplot as plt\n",
    "from sklearn import svm\n",
    "from sklearn import metrics\n",
    "from sklearn.ensemble import RandomForestClassifier\n",
    "import pandas as pd\n",
    "from sklearn.neural_network import MLPClassifier"
   ]
  },
  {
   "cell_type": "code",
   "execution_count": 2,
   "metadata": {
    "collapsed": true
   },
   "outputs": [],
   "source": [
    "#from sklearn.preprocessing import normalize\n",
    "\n",
    "dataset=np.genfromtxt('wdbc.csv', delimiter=',', converters ={0:lambda x: 1.0*int(x[0] == 77)})\n",
    "\n",
    "x = dataset[:,1:]\n",
    "y = dataset[:, 0]"
   ]
  },
  {
   "cell_type": "code",
   "execution_count": 3,
   "metadata": {
    "collapsed": true
   },
   "outputs": [],
   "source": [
    "#normalize(x) \n",
    "scaler = StandardScaler()\n",
    "x = scaler.fit_transform(x)\n",
    "x_train, x_test, y_train, y_test = train_test_split(x, y,  test_size = .2, shuffle = False)"
   ]
  },
  {
   "cell_type": "markdown",
   "metadata": {},
   "source": [
    "## Logistic Regression"
   ]
  },
  {
   "cell_type": "markdown",
   "metadata": {},
   "source": [
    "**Questions:**\n",
    "- **We get lower TRAIN accuracy for optimized parameters.**\n",
    "- **We get same  TEST accuracy for optimized parameters.**"
   ]
  },
  {
   "cell_type": "code",
   "execution_count": 4,
   "metadata": {
    "collapsed": false
   },
   "outputs": [
    {
     "name": "stdout",
     "output_type": "stream",
     "text": [
      "default log reg score on train  0.984615384615\n"
     ]
    }
   ],
   "source": [
    "lr = LogisticRegression()\n",
    "lr.fit(x_train, y_train)\n",
    "print('default log reg score on train ', lr.score(x_train, y_train))"
   ]
  },
  {
   "cell_type": "code",
   "execution_count": 5,
   "metadata": {
    "collapsed": false
   },
   "outputs": [
    {
     "name": "stdout",
     "output_type": "stream",
     "text": [
      "10-fold CV log reg score on train 0.9802197802197802\n"
     ]
    }
   ],
   "source": [
    "param_grid=[{'C':[0.001, 0.003, 0.01,0.03, 0.1, 0.3, 1], 'max_iter':[2,3,4,5,10,20,30]}]\n",
    "lrgrid = GridSearchCV(lr, param_grid, cv=10, scoring='accuracy')\n",
    "lrgrid.fit(x_train, y_train)\n",
    "print('10-fold CV log reg score on train', lrgrid.best_score_)"
   ]
  },
  {
   "cell_type": "code",
   "execution_count": 6,
   "metadata": {
    "collapsed": false
   },
   "outputs": [
    {
     "name": "stdout",
     "output_type": "stream",
     "text": [
      "best parameters are:  {'C': 0.1, 'max_iter': 4}\n"
     ]
    }
   ],
   "source": [
    "print('best parameters are: ', lrgrid.best_params_)"
   ]
  },
  {
   "cell_type": "code",
   "execution_count": 7,
   "metadata": {
    "collapsed": false
   },
   "outputs": [
    {
     "name": "stdout",
     "output_type": "stream",
     "text": [
      "default log reg on test  0.982456140351\n",
      "10-fold CV log reg score on test:  0.982456140351\n"
     ]
    }
   ],
   "source": [
    "lrbest = LogisticRegression(C = 0.1, max_iter = 4)\n",
    "lrbest.fit(x_train, y_train)\n",
    "print('default log reg on test ', lr.score(x_test, y_test))\n",
    "print('10-fold CV log reg score on test: ', lrbest.score(x_test, y_test))"
   ]
  },
  {
   "cell_type": "code",
   "execution_count": 8,
   "metadata": {
    "collapsed": false
   },
   "outputs": [
    {
     "name": "stdout",
     "output_type": "stream",
     "text": [
      "Confusion matrix for default: \n",
      " [[86  2]\n",
      " [ 0 26]]\n"
     ]
    }
   ],
   "source": [
    "print('Confusion matrix for default: \\n', metrics.confusion_matrix(y_test,lr.predict(x_test)))"
   ]
  },
  {
   "cell_type": "code",
   "execution_count": 9,
   "metadata": {
    "collapsed": false
   },
   "outputs": [
    {
     "name": "stdout",
     "output_type": "stream",
     "text": [
      "Confusion matrix for optimized: \n",
      " [[86  2]\n",
      " [ 0 26]]\n"
     ]
    }
   ],
   "source": [
    "print('Confusion matrix for optimized: \\n', metrics.confusion_matrix(y_test,lrbest.predict(x_test)))"
   ]
  },
  {
   "cell_type": "code",
   "execution_count": 10,
   "metadata": {
    "collapsed": false
   },
   "outputs": [
    {
     "name": "stdout",
     "output_type": "stream",
     "text": [
      "             precision    recall  f1-score   support\n",
      "\n",
      "        0.0       1.00      0.98      0.99        88\n",
      "        1.0       0.93      1.00      0.96        26\n",
      "\n",
      "avg / total       0.98      0.98      0.98       114\n",
      "\n",
      "Classification Accuracy:  0.982456140351\n",
      "Classification error:  0.0175438596491\n",
      "TP rate:  1.0\n",
      "FP rate:  0.0227272727273\n",
      "Precision:  0.928571428571\n"
     ]
    }
   ],
   "source": [
    "print(metrics.classification_report(y_test, lrbest.predict(x_test)))\n",
    "confusion = metrics.confusion_matrix(y_test, lrbest.predict(x_test))\n",
    "TP = confusion[1, 1]\n",
    "TN = confusion[0, 0]\n",
    "FP = confusion[0, 1]\n",
    "FN = confusion[1, 0]\n",
    "print('Classification Accuracy: ', (TP + TN) / float(TP + TN + FP + FN))\n",
    "print('Classification error: ', (FP + FN) / float(TP + TN + FP + FN))\n",
    "print('TP rate: ', TP / float(TP + FN))\n",
    "print('FP rate: ', FP / float(TN + FP))\n",
    "print('Precision: ', TP / float(TP + FP))"
   ]
  },
  {
   "cell_type": "code",
   "execution_count": 11,
   "metadata": {
    "collapsed": false
   },
   "outputs": [
    {
     "data": {
      "image/png": "[encoded data removed]",
      "text/plain": [
       "<matplotlib.figure.Figure at 0xb887e22128>"
      ]
     },
     "metadata": {},
     "output_type": "display_data"
    }
   ],
   "source": [
    "fpr, tpr, thresholds = metrics.roc_curve(y_test, lrbest.predict(x_test))\n",
    "plt.plot(fpr, tpr)\n",
    "plt.xlim([0.0, 1.0])\n",
    "plt.ylim([0.0, 1.0])\n",
    "plt.title('ROC curve for Breast Cancer classifier')\n",
    "plt.xlabel('False Positive Rate (1 - Specificity)')\n",
    "plt.ylabel('True Positive Rate (Sensitivity)')\n",
    "plt.grid(True)"
   ]
  },
  {
   "cell_type": "code",
   "execution_count": 12,
   "metadata": {
    "collapsed": false
   },
   "outputs": [
    {
     "name": "stdout",
     "output_type": "stream",
     "text": [
      "AUC value:  0.988636363636\n"
     ]
    }
   ],
   "source": [
    "print('AUC value: ', metrics.roc_auc_score(y_test, lrbest.predict(x_test)))"
   ]
  },
  {
   "cell_type": "markdown",
   "metadata": {},
   "source": [
    "## SVM"
   ]
  },
  {
   "cell_type": "markdown",
   "metadata": {},
   "source": [
    "#### Linear SVM"
   ]
  },
  {
   "cell_type": "markdown",
   "metadata": {},
   "source": [
    "**Questions:**\n",
    "- **We get lower TRAIN accuracy for optimized parameters.**\n",
    "- **We get same  TEST accuracy for optimized parameters.**"
   ]
  },
  {
   "cell_type": "code",
   "execution_count": 13,
   "metadata": {
    "collapsed": true
   },
   "outputs": [],
   "source": [
    "lin_svm = svm.LinearSVC()"
   ]
  },
  {
   "cell_type": "code",
   "execution_count": 14,
   "metadata": {
    "collapsed": false
   },
   "outputs": [
    {
     "name": "stdout",
     "output_type": "stream",
     "text": [
      "default lin svm score on train  0.984615384615\n"
     ]
    }
   ],
   "source": [
    "lin_svm.fit(x_train, y_train)\n",
    "print('default lin svm score on train ', lin_svm.score(x_train, y_train))"
   ]
  },
  {
   "cell_type": "code",
   "execution_count": 15,
   "metadata": {
    "collapsed": false
   },
   "outputs": [
    {
     "name": "stdout",
     "output_type": "stream",
     "text": [
      "default parameters are:  {'C': 1.0, 'class_weight': None, 'dual': True, 'fit_intercept': True, 'intercept_scaling': 1, 'loss': 'squared_hinge', 'max_iter': 1000, 'multi_class': 'ovr', 'penalty': 'l2', 'random_state': None, 'tol': 0.0001, 'verbose': 0}\n"
     ]
    }
   ],
   "source": [
    "print('default parameters are: ', lin_svm.get_params())"
   ]
  },
  {
   "cell_type": "code",
   "execution_count": 16,
   "metadata": {
    "collapsed": false
   },
   "outputs": [
    {
     "name": "stdout",
     "output_type": "stream",
     "text": [
      "10-fold CV lin svm score on train 0.9560439560439561\n"
     ]
    }
   ],
   "source": [
    "lin_svm_param_grid = [\n",
    "  {'C': [1, 10, 100, 1000]}\n",
    " ]\n",
    "lin_svmgrid = GridSearchCV(lin_svm, lin_svm_param_grid, cv=10, scoring='accuracy')\n",
    "lin_svmgrid.fit(x_train, y_train)\n",
    "print('10-fold CV lin svm score on train', lin_svmgrid.best_score_)"
   ]
  },
  {
   "cell_type": "code",
   "execution_count": 17,
   "metadata": {
    "collapsed": false
   },
   "outputs": [
    {
     "name": "stdout",
     "output_type": "stream",
     "text": [
      "best parameters are:  {'C': 1}\n"
     ]
    }
   ],
   "source": [
    "print('best parameters are: ', lin_svmgrid.best_params_)"
   ]
  },
  {
   "cell_type": "code",
   "execution_count": 18,
   "metadata": {
    "collapsed": true
   },
   "outputs": [],
   "source": [
    "lin_svmbest = svm.LinearSVC(C=1)"
   ]
  },
  {
   "cell_type": "code",
   "execution_count": 19,
   "metadata": {
    "collapsed": false
   },
   "outputs": [
    {
     "name": "stdout",
     "output_type": "stream",
     "text": [
      "default lin svm on test  0.964912280702\n",
      "10-fold CV lin svm score on test:  0.964912280702\n"
     ]
    }
   ],
   "source": [
    "lin_svmbest.fit(x_train, y_train)\n",
    "print('default lin svm on test ', lin_svm.score(x_test, y_test))\n",
    "print('10-fold CV lin svm score on test: ', lin_svmbest.score(x_test, y_test))"
   ]
  },
  {
   "cell_type": "code",
   "execution_count": 20,
   "metadata": {
    "collapsed": false
   },
   "outputs": [
    {
     "name": "stdout",
     "output_type": "stream",
     "text": [
      "Confusion matrix for default: \n",
      " [[85  3]\n",
      " [ 1 25]] \n",
      "\n",
      "Confusion matrix for optimized: \n",
      " [[85  3]\n",
      " [ 1 25]] \n",
      "\n",
      "             precision    recall  f1-score   support\n",
      "\n",
      "        0.0       0.99      0.97      0.98        88\n",
      "        1.0       0.89      0.96      0.93        26\n",
      "\n",
      "avg / total       0.97      0.96      0.97       114\n",
      "\n",
      "Classification Accuracy:  0.964912280702\n",
      "Classification error:  0.0350877192982\n",
      "TP rate:  0.961538461538\n",
      "FP rate:  0.0340909090909\n",
      "Precision:  0.892857142857\n"
     ]
    }
   ],
   "source": [
    "print('Confusion matrix for default: \\n', metrics.confusion_matrix(y_test,lin_svm.predict(x_test)), \"\\n\")\n",
    "confusion = metrics.confusion_matrix(y_test, lin_svmbest.predict(x_test))\n",
    "print('Confusion matrix for optimized: \\n',confusion, '\\n')\n",
    "print(metrics.classification_report(y_test, lin_svmbest.predict(x_test)))\n",
    "TP = confusion[1, 1]\n",
    "TN = confusion[0, 0]\n",
    "FP = confusion[0, 1]\n",
    "FN = confusion[1, 0]\n",
    "print('Classification Accuracy: ', (TP + TN) / float(TP + TN + FP + FN))\n",
    "print('Classification error: ', (FP + FN) / float(TP + TN + FP + FN))\n",
    "print('TP rate: ', TP / float(TP + FN))\n",
    "print('FP rate: ', FP / float(TN + FP))\n",
    "print('Precision: ', TP / float(TP + FP))"
   ]
  },
  {
   "cell_type": "code",
   "execution_count": 21,
   "metadata": {
    "collapsed": false
   },
   "outputs": [
    {
     "data": {
      "image/png": "[encoded data removed]",
      "text/plain": [
       "<matplotlib.figure.Figure at 0xb88c2d4748>"
      ]
     },
     "metadata": {},
     "output_type": "display_data"
    }
   ],
   "source": [
    "fpr, tpr, thresholds = metrics.roc_curve(y_test, lin_svmbest.predict(x_test))\n",
    "plt.plot(fpr, tpr)\n",
    "plt.xlim([0.0, 1.0])\n",
    "plt.ylim([0.0, 1.0])\n",
    "plt.title('ROC curve for Breast Cancer classifier')\n",
    "plt.xlabel('False Positive Rate (1 - Specificity)')\n",
    "plt.ylabel('True Positive Rate (Sensitivity)')\n",
    "plt.grid(True)"
   ]
  },
  {
   "cell_type": "code",
   "execution_count": 22,
   "metadata": {
    "collapsed": false
   },
   "outputs": [
    {
     "name": "stdout",
     "output_type": "stream",
     "text": [
      "AUC value:  0.963723776224\n"
     ]
    }
   ],
   "source": [
    "print('AUC value: ', metrics.roc_auc_score(y_test, lin_svmbest.predict(x_test)))"
   ]
  },
  {
   "cell_type": "markdown",
   "metadata": {},
   "source": [
    "#### SVM SVC"
   ]
  },
  {
   "cell_type": "markdown",
   "metadata": {},
   "source": [
    "**Questions:** \n",
    "- **We get lower TRAIN and TEST accuracy for optimized parameters. **\n",
    "- **What parameters other than C and kernel to optimize?**"
   ]
  },
  {
   "cell_type": "code",
   "execution_count": 23,
   "metadata": {
    "collapsed": true
   },
   "outputs": [],
   "source": [
    "nonlin_svm=svm.SVC()"
   ]
  },
  {
   "cell_type": "code",
   "execution_count": 24,
   "metadata": {
    "collapsed": false
   },
   "outputs": [
    {
     "name": "stdout",
     "output_type": "stream",
     "text": [
      "default svm score on train  0.984615384615\n"
     ]
    }
   ],
   "source": [
    "nonlin_svm.fit(x_train, y_train)\n",
    "print('default svm score on train ', nonlin_svm.score(x_train, y_train))"
   ]
  },
  {
   "cell_type": "code",
   "execution_count": 25,
   "metadata": {
    "collapsed": false
   },
   "outputs": [
    {
     "name": "stdout",
     "output_type": "stream",
     "text": [
      "default parameters are:  {'C': 1.0, 'cache_size': 200, 'class_weight': None, 'coef0': 0.0, 'decision_function_shape': 'ovr', 'degree': 3, 'gamma': 'auto', 'kernel': 'rbf', 'max_iter': -1, 'probability': False, 'random_state': None, 'shrinking': True, 'tol': 0.001, 'verbose': False}\n"
     ]
    }
   ],
   "source": [
    "print('default parameters are: ', nonlin_svm.get_params())"
   ]
  },
  {
   "cell_type": "code",
   "execution_count": 26,
   "metadata": {
    "collapsed": false
   },
   "outputs": [
    {
     "name": "stdout",
     "output_type": "stream",
     "text": [
      "10-fold CV svm score on train 0.9758241758241758\n"
     ]
    }
   ],
   "source": [
    "nonlin_svm_param_grid = [\n",
    "  {'C': [1, 10, 100, 1000], 'kernel': ['linear']},\n",
    "  {'C': [1, 10, 100, 1000], 'kernel': ['rbf']},\n",
    " ]\n",
    "nonlin_svmgrid = GridSearchCV(nonlin_svm, nonlin_svm_param_grid, cv=10, scoring='accuracy')\n",
    "nonlin_svmgrid.fit(x_train, y_train)\n",
    "print('10-fold CV svm score on train', nonlin_svmgrid.best_score_)"
   ]
  },
  {
   "cell_type": "code",
   "execution_count": 27,
   "metadata": {
    "collapsed": false
   },
   "outputs": [
    {
     "name": "stdout",
     "output_type": "stream",
     "text": [
      "best parameters are:  {'C': 1, 'kernel': 'linear'}\n"
     ]
    }
   ],
   "source": [
    "print('best parameters are: ', nonlin_svmgrid.best_params_)"
   ]
  },
  {
   "cell_type": "code",
   "execution_count": 28,
   "metadata": {
    "collapsed": true
   },
   "outputs": [],
   "source": [
    "nonlin_svmbest = svm.SVC(C = 1, kernel = 'linear')"
   ]
  },
  {
   "cell_type": "code",
   "execution_count": 29,
   "metadata": {
    "collapsed": false
   },
   "outputs": [
    {
     "name": "stdout",
     "output_type": "stream",
     "text": [
      "default svm on test  0.973684210526\n",
      "10-fold CV svm score on test:  0.964912280702\n"
     ]
    }
   ],
   "source": [
    "nonlin_svmbest.fit(x_train, y_train)\n",
    "print('default svm on test ', nonlin_svm.score(x_test, y_test))\n",
    "print('10-fold CV svm score on test: ', nonlin_svmbest.score(x_test, y_test))"
   ]
  },
  {
   "cell_type": "code",
   "execution_count": 32,
   "metadata": {
    "collapsed": false
   },
   "outputs": [
    {
     "name": "stdout",
     "output_type": "stream",
     "text": [
      "Confusion matrix for default: \n",
      " [[85  3]\n",
      " [ 0 26]] \n",
      "\n",
      "Confusion matrix for optimised: \n",
      " [[85  3]\n",
      " [ 1 25]] \n",
      "\n",
      "             precision    recall  f1-score   support\n",
      "\n",
      "        0.0       0.99      0.97      0.98        88\n",
      "        1.0       0.89      0.96      0.93        26\n",
      "\n",
      "avg / total       0.97      0.96      0.97       114\n",
      "\n",
      "Classification Accuracy:  0.964912280702\n",
      "Classification error:  0.0350877192982\n",
      "TP rate:  0.961538461538\n",
      "FP rate:  0.0340909090909\n",
      "Precision:  0.892857142857\n"
     ]
    }
   ],
   "source": [
    "print('Confusion matrix for default: \\n', metrics.confusion_matrix(y_test,nonlin_svm.predict(x_test)), \"\\n\")\n",
    "confusion = metrics.confusion_matrix(y_test, nonlin_svmbest.predict(x_test))\n",
    "print('Confusion matrix for optimised: \\n', confusion, '\\n')\n",
    "print( metrics.classification_report(y_test, nonlin_svmbest.predict(x_test)))\n",
    "TP = confusion[1, 1]\n",
    "TN = confusion[0, 0]\n",
    "FP = confusion[0, 1]\n",
    "FN = confusion[1, 0]\n",
    "print('Classification Accuracy: ', (TP + TN) / float(TP + TN + FP + FN))\n",
    "print('Classification error: ', (FP + FN) / float(TP + TN + FP + FN))\n",
    "print('TP rate: ', TP / float(TP + FN))\n",
    "print('FP rate: ', FP / float(TN + FP))\n",
    "print('Precision: ', TP / float(TP + FP))"
   ]
  },
  {
   "cell_type": "code",
   "execution_count": 33,
   "metadata": {
    "collapsed": false
   },
   "outputs": [
    {
     "data": {
      "image/png": "[encoded data removed]",
      "text/plain": [
       "<matplotlib.figure.Figure at 0xb88c43be48>"
      ]
     },
     "metadata": {},
     "output_type": "display_data"
    }
   ],
   "source": [
    "fpr, tpr, thresholds = metrics.roc_curve(y_test, nonlin_svmbest.predict(x_test))\n",
    "plt.plot(fpr, tpr)\n",
    "plt.xlim([0.0, 1.0])\n",
    "plt.ylim([0.0, 1.0])\n",
    "plt.title('ROC curve for Breast Cancer classifier')\n",
    "plt.xlabel('False Positive Rate (1 - Specificity)')\n",
    "plt.ylabel('True Positive Rate (Sensitivity)')\n",
    "plt.grid(True)"
   ]
  },
  {
   "cell_type": "code",
   "execution_count": 34,
   "metadata": {
    "collapsed": false
   },
   "outputs": [
    {
     "name": "stdout",
     "output_type": "stream",
     "text": [
      "AUC value:  0.963723776224\n"
     ]
    }
   ],
   "source": [
    "print('AUC value: ', metrics.roc_auc_score(y_test, lin_svmbest.predict(x_test)))"
   ]
  },
  {
   "cell_type": "markdown",
   "metadata": {},
   "source": [
    "## Random Forest"
   ]
  },
  {
   "cell_type": "markdown",
   "metadata": {},
   "source": [
    "**Questions:**\n",
    "- **We get lower TRAIN accuracy for optimized parameters.**\n",
    "- **We get same TEST accuracy for optimized parameters.**"
   ]
  },
  {
   "cell_type": "code",
   "execution_count": 35,
   "metadata": {
    "collapsed": false
   },
   "outputs": [
    {
     "name": "stdout",
     "output_type": "stream",
     "text": [
      "default rand for on train  0.993406593407\n"
     ]
    }
   ],
   "source": [
    "randfor=RandomForestClassifier()\n",
    "randfor.fit(x_train, y_train)\n",
    "print('default rand for on train ', randfor.score(x_train, y_train))"
   ]
  },
  {
   "cell_type": "code",
   "execution_count": 36,
   "metadata": {
    "collapsed": true
   },
   "outputs": [],
   "source": [
    "#print('default parameters are: ', randfor.get_params())"
   ]
  },
  {
   "cell_type": "code",
   "execution_count": 37,
   "metadata": {
    "collapsed": false
   },
   "outputs": [
    {
     "name": "stdout",
     "output_type": "stream",
     "text": [
      "10-fold CV rand for score on train 0.9604395604395605\n"
     ]
    }
   ],
   "source": [
    "randfor_param_grid=[{'n_estimators':[10, 500, 1000], 'max_features': ['auto','log2', None], 'criterion': ['gini', 'entropy']}]\n",
    "randforgrid = GridSearchCV(randfor, randfor_param_grid, cv=10, scoring='accuracy')\n",
    "randforgrid.fit(x_train, y_train)\n",
    "print('10-fold CV rand for score on train', randforgrid.best_score_)"
   ]
  },
  {
   "cell_type": "code",
   "execution_count": 38,
   "metadata": {
    "collapsed": false
   },
   "outputs": [
    {
     "name": "stdout",
     "output_type": "stream",
     "text": [
      "best parameters are:  {'criterion': 'gini', 'max_features': 'auto', 'n_estimators': 10}\n"
     ]
    }
   ],
   "source": [
    "print('best parameters are: ', randforgrid.best_params_)"
   ]
  },
  {
   "cell_type": "code",
   "execution_count": 39,
   "metadata": {
    "collapsed": true
   },
   "outputs": [],
   "source": [
    "randforbest = RandomForestClassifier(criterion = 'entropy', max_features = 'auto', n_estimators = 500)"
   ]
  },
  {
   "cell_type": "code",
   "execution_count": 40,
   "metadata": {
    "collapsed": false
   },
   "outputs": [
    {
     "name": "stdout",
     "output_type": "stream",
     "text": [
      "default rand for on test  0.964912280702\n",
      "10-fold CV rand for score on test:  0.982456140351\n"
     ]
    }
   ],
   "source": [
    "randforbest.fit(x_train, y_train)\n",
    "print('default rand for on test ', randfor.score(x_test, y_test))\n",
    "print('10-fold CV rand for score on test: ', randforbest.score(x_test, y_test))"
   ]
  },
  {
   "cell_type": "code",
   "execution_count": 41,
   "metadata": {
    "collapsed": false
   },
   "outputs": [
    {
     "name": "stdout",
     "output_type": "stream",
     "text": [
      "Confusion matrix for default: \n",
      " [[85  3]\n",
      " [ 1 25]] \n",
      "\n",
      "Confusion matrix for optimized: \n",
      " [[86  2]\n",
      " [ 0 26]] \n",
      "\n",
      "             precision    recall  f1-score   support\n",
      "\n",
      "        0.0       1.00      0.98      0.99        88\n",
      "        1.0       0.93      1.00      0.96        26\n",
      "\n",
      "avg / total       0.98      0.98      0.98       114\n",
      "\n",
      "Classification Accuracy:  0.982456140351\n",
      "Classification error:  0.0175438596491\n",
      "TP rate:  1.0\n",
      "FP rate:  0.0227272727273\n",
      "Precision:  0.928571428571\n"
     ]
    }
   ],
   "source": [
    "print('Confusion matrix for default: \\n', metrics.confusion_matrix(y_test,randfor.predict(x_test)), \"\\n\")\n",
    "confusion = metrics.confusion_matrix(y_test, randforbest.predict(x_test))\n",
    "print('Confusion matrix for optimized: \\n', confusion, '\\n')\n",
    "print(metrics.classification_report(y_test, randforbest.predict(x_test)))\n",
    "TP = confusion[1, 1]\n",
    "TN = confusion[0, 0]\n",
    "FP = confusion[0, 1]\n",
    "FN = confusion[1, 0]\n",
    "print('Classification Accuracy: ', (TP + TN) / float(TP + TN + FP + FN))\n",
    "print('Classification error: ', (FP + FN) / float(TP + TN + FP + FN))\n",
    "print('TP rate: ', TP / float(TP + FN))\n",
    "print('FP rate: ', FP / float(TN + FP))\n",
    "print('Precision: ', TP / float(TP + FP))"
   ]
  },
  {
   "cell_type": "code",
   "execution_count": 42,
   "metadata": {
    "collapsed": false
   },
   "outputs": [
    {
     "data": {
      "image/png": "[encoded data removed]",
      "text/plain": [
       "<matplotlib.figure.Figure at 0xb88297aa90>"
      ]
     },
     "metadata": {},
     "output_type": "display_data"
    }
   ],
   "source": [
    "fpr, tpr, thresholds = metrics.roc_curve(y_test, randforbest.predict(x_test))\n",
    "plt.plot(fpr, tpr)\n",
    "plt.xlim([0.0, 1.0])\n",
    "plt.ylim([0.0, 1.0])\n",
    "plt.title('ROC curve for Breast Cancer classifier')\n",
    "plt.xlabel('False Positive Rate (1 - Specificity)')\n",
    "plt.ylabel('True Positive Rate (Sensitivity)')\n",
    "plt.grid(True)"
   ]
  },
  {
   "cell_type": "code",
   "execution_count": 43,
   "metadata": {
    "collapsed": false
   },
   "outputs": [
    {
     "name": "stdout",
     "output_type": "stream",
     "text": [
      "AUC value:  0.988636363636\n"
     ]
    }
   ],
   "source": [
    "print('AUC value: ', metrics.roc_auc_score(y_test, randforbest.predict(x_test)))"
   ]
  },
  {
   "cell_type": "markdown",
   "metadata": {},
   "source": [
    "## Neural Network"
   ]
  },
  {
   "cell_type": "markdown",
   "metadata": {},
   "source": [
    "**Questions:**\n",
    "- **Lot of pink errors**\n",
    "- ** Did I use the correct function (MLPClassifier())? I used it because it is actually NeuralNetworks.MLPClassifier() in the documentation.**\n",
    "- ** We get lower TRAIN accuracy for optimized parameters.**\n",
    "- **We get same TEST accuracy for optimized parameters.**\n",
    "- **TEST accuracy is EQUAL to the one of Random Forest. How likely is that?!**"
   ]
  },
  {
   "cell_type": "code",
   "execution_count": 44,
   "metadata": {
    "collapsed": false
   },
   "outputs": [
    {
     "name": "stdout",
     "output_type": "stream",
     "text": [
      "default nn on train  0.993406593407\n"
     ]
    },
    {
     "name": "stderr",
     "output_type": "stream",
     "text": [
      "C:\\Users\\Vladimir\\Anaconda3\\lib\\site-packages\\sklearn\\neural_network\\multilayer_perceptron.py:564: ConvergenceWarning: Stochastic Optimizer: Maximum iterations (200) reached and the optimization hasn't converged yet.\n",
      "  % self.max_iter, ConvergenceWarning)\n"
     ]
    }
   ],
   "source": [
    "nn=MLPClassifier()\n",
    "nn.fit(x_train, y_train)\n",
    "print('default nn on train ', nn.score(x_train, y_train))"
   ]
  },
  {
   "cell_type": "code",
   "execution_count": 45,
   "metadata": {
    "collapsed": false
   },
   "outputs": [
    {
     "name": "stdout",
     "output_type": "stream",
     "text": [
      "default parameters are:  {'activation': 'relu', 'alpha': 0.0001, 'batch_size': 'auto', 'beta_1': 0.9, 'beta_2': 0.999, 'early_stopping': False, 'epsilon': 1e-08, 'hidden_layer_sizes': (100,), 'learning_rate': 'constant', 'learning_rate_init': 0.001, 'max_iter': 200, 'momentum': 0.9, 'nesterovs_momentum': True, 'power_t': 0.5, 'random_state': None, 'shuffle': True, 'solver': 'adam', 'tol': 0.0001, 'validation_fraction': 0.1, 'verbose': False, 'warm_start': False}\n"
     ]
    }
   ],
   "source": [
    "print('default parameters are: ', nn.get_params())"
   ]
  },
  {
   "cell_type": "code",
   "execution_count": 46,
   "metadata": {
    "collapsed": false
   },
   "outputs": [
    {
     "name": "stderr",
     "output_type": "stream",
     "text": [
      "C:\\Users\\Vladimir\\Anaconda3\\lib\\site-packages\\sklearn\\neural_network\\multilayer_perceptron.py:564: ConvergenceWarning: Stochastic Optimizer: Maximum iterations (200) reached and the optimization hasn't converged yet.\n",
      "  % self.max_iter, ConvergenceWarning)\n",
      "C:\\Users\\Vladimir\\Anaconda3\\lib\\site-packages\\sklearn\\neural_network\\multilayer_perceptron.py:564: ConvergenceWarning: Stochastic Optimizer: Maximum iterations (200) reached and the optimization hasn't converged yet.\n",
      "  % self.max_iter, ConvergenceWarning)\n",
      "C:\\Users\\Vladimir\\Anaconda3\\lib\\site-packages\\sklearn\\neural_network\\multilayer_perceptron.py:564: ConvergenceWarning: Stochastic Optimizer: Maximum iterations (200) reached and the optimization hasn't converged yet.\n",
      "  % self.max_iter, ConvergenceWarning)\n",
      "C:\\Users\\Vladimir\\Anaconda3\\lib\\site-packages\\sklearn\\neural_network\\multilayer_perceptron.py:564: ConvergenceWarning: Stochastic Optimizer: Maximum iterations (200) reached and the optimization hasn't converged yet.\n",
      "  % self.max_iter, ConvergenceWarning)\n",
      "C:\\Users\\Vladimir\\Anaconda3\\lib\\site-packages\\sklearn\\neural_network\\multilayer_perceptron.py:564: ConvergenceWarning: Stochastic Optimizer: Maximum iterations (200) reached and the optimization hasn't converged yet.\n",
      "  % self.max_iter, ConvergenceWarning)\n",
      "C:\\Users\\Vladimir\\Anaconda3\\lib\\site-packages\\sklearn\\neural_network\\multilayer_perceptron.py:564: ConvergenceWarning: Stochastic Optimizer: Maximum iterations (200) reached and the optimization hasn't converged yet.\n",
      "  % self.max_iter, ConvergenceWarning)\n",
      "C:\\Users\\Vladimir\\Anaconda3\\lib\\site-packages\\sklearn\\neural_network\\multilayer_perceptron.py:564: ConvergenceWarning: Stochastic Optimizer: Maximum iterations (200) reached and the optimization hasn't converged yet.\n",
      "  % self.max_iter, ConvergenceWarning)\n",
      "C:\\Users\\Vladimir\\Anaconda3\\lib\\site-packages\\sklearn\\neural_network\\multilayer_perceptron.py:564: ConvergenceWarning: Stochastic Optimizer: Maximum iterations (200) reached and the optimization hasn't converged yet.\n",
      "  % self.max_iter, ConvergenceWarning)\n",
      "C:\\Users\\Vladimir\\Anaconda3\\lib\\site-packages\\sklearn\\neural_network\\multilayer_perceptron.py:564: ConvergenceWarning: Stochastic Optimizer: Maximum iterations (200) reached and the optimization hasn't converged yet.\n",
      "  % self.max_iter, ConvergenceWarning)\n",
      "C:\\Users\\Vladimir\\Anaconda3\\lib\\site-packages\\sklearn\\neural_network\\multilayer_perceptron.py:564: ConvergenceWarning: Stochastic Optimizer: Maximum iterations (200) reached and the optimization hasn't converged yet.\n",
      "  % self.max_iter, ConvergenceWarning)\n",
      "C:\\Users\\Vladimir\\Anaconda3\\lib\\site-packages\\sklearn\\neural_network\\multilayer_perceptron.py:564: ConvergenceWarning: Stochastic Optimizer: Maximum iterations (200) reached and the optimization hasn't converged yet.\n",
      "  % self.max_iter, ConvergenceWarning)\n",
      "C:\\Users\\Vladimir\\Anaconda3\\lib\\site-packages\\sklearn\\neural_network\\multilayer_perceptron.py:564: ConvergenceWarning: Stochastic Optimizer: Maximum iterations (200) reached and the optimization hasn't converged yet.\n",
      "  % self.max_iter, ConvergenceWarning)\n",
      "C:\\Users\\Vladimir\\Anaconda3\\lib\\site-packages\\sklearn\\neural_network\\multilayer_perceptron.py:564: ConvergenceWarning: Stochastic Optimizer: Maximum iterations (200) reached and the optimization hasn't converged yet.\n",
      "  % self.max_iter, ConvergenceWarning)\n",
      "C:\\Users\\Vladimir\\Anaconda3\\lib\\site-packages\\sklearn\\neural_network\\multilayer_perceptron.py:564: ConvergenceWarning: Stochastic Optimizer: Maximum iterations (200) reached and the optimization hasn't converged yet.\n",
      "  % self.max_iter, ConvergenceWarning)\n",
      "C:\\Users\\Vladimir\\Anaconda3\\lib\\site-packages\\sklearn\\neural_network\\multilayer_perceptron.py:564: ConvergenceWarning: Stochastic Optimizer: Maximum iterations (200) reached and the optimization hasn't converged yet.\n",
      "  % self.max_iter, ConvergenceWarning)\n",
      "C:\\Users\\Vladimir\\Anaconda3\\lib\\site-packages\\sklearn\\neural_network\\multilayer_perceptron.py:564: ConvergenceWarning: Stochastic Optimizer: Maximum iterations (200) reached and the optimization hasn't converged yet.\n",
      "  % self.max_iter, ConvergenceWarning)\n",
      "C:\\Users\\Vladimir\\Anaconda3\\lib\\site-packages\\sklearn\\neural_network\\multilayer_perceptron.py:564: ConvergenceWarning: Stochastic Optimizer: Maximum iterations (200) reached and the optimization hasn't converged yet.\n",
      "  % self.max_iter, ConvergenceWarning)\n",
      "C:\\Users\\Vladimir\\Anaconda3\\lib\\site-packages\\sklearn\\neural_network\\multilayer_perceptron.py:564: ConvergenceWarning: Stochastic Optimizer: Maximum iterations (200) reached and the optimization hasn't converged yet.\n",
      "  % self.max_iter, ConvergenceWarning)\n",
      "C:\\Users\\Vladimir\\Anaconda3\\lib\\site-packages\\sklearn\\neural_network\\multilayer_perceptron.py:564: ConvergenceWarning: Stochastic Optimizer: Maximum iterations (200) reached and the optimization hasn't converged yet.\n",
      "  % self.max_iter, ConvergenceWarning)\n",
      "C:\\Users\\Vladimir\\Anaconda3\\lib\\site-packages\\sklearn\\neural_network\\multilayer_perceptron.py:564: ConvergenceWarning: Stochastic Optimizer: Maximum iterations (200) reached and the optimization hasn't converged yet.\n",
      "  % self.max_iter, ConvergenceWarning)\n",
      "C:\\Users\\Vladimir\\Anaconda3\\lib\\site-packages\\sklearn\\neural_network\\multilayer_perceptron.py:564: ConvergenceWarning: Stochastic Optimizer: Maximum iterations (200) reached and the optimization hasn't converged yet.\n",
      "  % self.max_iter, ConvergenceWarning)\n",
      "C:\\Users\\Vladimir\\Anaconda3\\lib\\site-packages\\sklearn\\neural_network\\multilayer_perceptron.py:564: ConvergenceWarning: Stochastic Optimizer: Maximum iterations (200) reached and the optimization hasn't converged yet.\n",
      "  % self.max_iter, ConvergenceWarning)\n",
      "C:\\Users\\Vladimir\\Anaconda3\\lib\\site-packages\\sklearn\\neural_network\\multilayer_perceptron.py:564: ConvergenceWarning: Stochastic Optimizer: Maximum iterations (200) reached and the optimization hasn't converged yet.\n",
      "  % self.max_iter, ConvergenceWarning)\n",
      "C:\\Users\\Vladimir\\Anaconda3\\lib\\site-packages\\sklearn\\neural_network\\multilayer_perceptron.py:564: ConvergenceWarning: Stochastic Optimizer: Maximum iterations (200) reached and the optimization hasn't converged yet.\n",
      "  % self.max_iter, ConvergenceWarning)\n",
      "C:\\Users\\Vladimir\\Anaconda3\\lib\\site-packages\\sklearn\\neural_network\\multilayer_perceptron.py:564: ConvergenceWarning: Stochastic Optimizer: Maximum iterations (200) reached and the optimization hasn't converged yet.\n",
      "  % self.max_iter, ConvergenceWarning)\n",
      "C:\\Users\\Vladimir\\Anaconda3\\lib\\site-packages\\sklearn\\neural_network\\multilayer_perceptron.py:564: ConvergenceWarning: Stochastic Optimizer: Maximum iterations (200) reached and the optimization hasn't converged yet.\n",
      "  % self.max_iter, ConvergenceWarning)\n",
      "C:\\Users\\Vladimir\\Anaconda3\\lib\\site-packages\\sklearn\\neural_network\\multilayer_perceptron.py:564: ConvergenceWarning: Stochastic Optimizer: Maximum iterations (200) reached and the optimization hasn't converged yet.\n",
      "  % self.max_iter, ConvergenceWarning)\n",
      "C:\\Users\\Vladimir\\Anaconda3\\lib\\site-packages\\sklearn\\neural_network\\multilayer_perceptron.py:564: ConvergenceWarning: Stochastic Optimizer: Maximum iterations (200) reached and the optimization hasn't converged yet.\n",
      "  % self.max_iter, ConvergenceWarning)\n",
      "C:\\Users\\Vladimir\\Anaconda3\\lib\\site-packages\\sklearn\\neural_network\\multilayer_perceptron.py:564: ConvergenceWarning: Stochastic Optimizer: Maximum iterations (200) reached and the optimization hasn't converged yet.\n",
      "  % self.max_iter, ConvergenceWarning)\n"
     ]
    },
    {
     "name": "stdout",
     "output_type": "stream",
     "text": [
      "10-fold CV nn score on train 0.978021978021978\n"
     ]
    }
   ],
   "source": [
    "nn_param_grid=[{'learning_rate' : ['constant', 'invscaling', 'adaptive'], \n",
    "                'momentum':[0.1,0.3,0.9], \n",
    "                'activation':['identity', 'logistic', 'tanh', 'relu']}]\n",
    "nngrid = GridSearchCV(nn, nn_param_grid, cv=10, scoring='accuracy')\n",
    "nngrid.fit(x_train, y_train)\n",
    "print('10-fold CV nn score on train', nngrid.best_score_)"
   ]
  },
  {
   "cell_type": "code",
   "execution_count": 47,
   "metadata": {
    "collapsed": false
   },
   "outputs": [
    {
     "name": "stdout",
     "output_type": "stream",
     "text": [
      "best parameters are:  {'activation': 'identity', 'learning_rate': 'constant', 'momentum': 0.3}\n"
     ]
    }
   ],
   "source": [
    "print('best parameters are: ', nngrid.best_params_)"
   ]
  },
  {
   "cell_type": "code",
   "execution_count": 48,
   "metadata": {
    "collapsed": true
   },
   "outputs": [],
   "source": [
    "nnbest=MLPClassifier(activation = 'identity', learning_rate = 'constant', momentum = 0.9)"
   ]
  },
  {
   "cell_type": "code",
   "execution_count": 49,
   "metadata": {
    "collapsed": false
   },
   "outputs": [
    {
     "name": "stdout",
     "output_type": "stream",
     "text": [
      "default nn on test  0.973684210526\n",
      "10-fold CV nn score on test:  0.973684210526\n"
     ]
    }
   ],
   "source": [
    "nnbest.fit(x_train, y_train)\n",
    "print('default nn on test ', nn.score(x_test, y_test))\n",
    "print('10-fold CV nn score on test: ', nnbest.score(x_test, y_test))"
   ]
  },
  {
   "cell_type": "code",
   "execution_count": 50,
   "metadata": {
    "collapsed": false
   },
   "outputs": [
    {
     "name": "stdout",
     "output_type": "stream",
     "text": [
      "Confusion matrix for default: \n",
      " [[85  3]\n",
      " [ 0 26]] \n",
      "\n",
      "Confusion matrix for optimized: \n",
      " [[85  3]\n",
      " [ 0 26]] \n",
      "\n",
      "             precision    recall  f1-score   support\n",
      "\n",
      "        0.0       1.00      0.97      0.98        88\n",
      "        1.0       0.90      1.00      0.95        26\n",
      "\n",
      "avg / total       0.98      0.97      0.97       114\n",
      "\n",
      "Classification Accuracy:  0.973684210526\n",
      "Classification error:  0.0263157894737\n",
      "TP rate:  1.0\n",
      "FP rate:  0.0340909090909\n",
      "Precision:  0.896551724138\n"
     ]
    }
   ],
   "source": [
    "print('Confusion matrix for default: \\n', metrics.confusion_matrix(y_test, nn.predict(x_test)), \"\\n\")\n",
    "confusion = metrics.confusion_matrix(y_test, nnbest.predict(x_test))\n",
    "print('Confusion matrix for optimized: \\n', confusion, '\\n')\n",
    "print(metrics.classification_report(y_test, nnbest.predict(x_test)))\n",
    "TP = confusion[1, 1]\n",
    "TN = confusion[0, 0]\n",
    "FP = confusion[0, 1]\n",
    "FN = confusion[1, 0]\n",
    "print('Classification Accuracy: ', (TP + TN) / float(TP + TN + FP + FN))\n",
    "print('Classification error: ', (FP + FN) / float(TP + TN + FP + FN))\n",
    "print('TP rate: ', TP / float(TP + FN))\n",
    "print('FP rate: ', FP / float(TN + FP))\n",
    "print('Precision: ', TP / float(TP + FP))"
   ]
  },
  {
   "cell_type": "code",
   "execution_count": 51,
   "metadata": {
    "collapsed": false
   },
   "outputs": [
    {
     "data": {
      "image/png": "[encoded data removed]",
      "text/plain": [
       "<matplotlib.figure.Figure at 0xb88c439358>"
      ]
     },
     "metadata": {},
     "output_type": "display_data"
    }
   ],
   "source": [
    "fpr, tpr, thresholds = metrics.roc_curve(y_test, nnbest.predict(x_test))\n",
    "plt.plot(fpr, tpr)\n",
    "plt.xlim([0.0, 1.0])\n",
    "plt.ylim([0.0, 1.0])\n",
    "plt.title('ROC curve for Breast Cancer classifier')\n",
    "plt.xlabel('False Positive Rate (1 - Specificity)')\n",
    "plt.ylabel('True Positive Rate (Sensitivity)')\n",
    "plt.grid(True)"
   ]
  },
  {
   "cell_type": "code",
   "execution_count": 52,
   "metadata": {
    "collapsed": false
   },
   "outputs": [
    {
     "name": "stdout",
     "output_type": "stream",
     "text": [
      "AUC value:  0.982954545455\n"
     ]
    }
   ],
   "source": [
    "print('AUC value: ', metrics.roc_auc_score(y_test, nnbest.predict(x_test)))"
   ]
  },
  {
   "cell_type": "code",
   "execution_count": null,
   "metadata": {
    "collapsed": true
   },
   "outputs": [],
   "source": []
  }
 ],
 "metadata": {
  "kernelspec": {
   "display_name": "Python 3",
   "language": "python",
   "name": "python3"
  },
  "language_info": {
   "codemirror_mode": {
    "name": "ipython",
    "version": 3
   },
   "file_extension": ".py",
   "mimetype": "text/x-python",
   "name": "python",
   "nbconvert_exporter": "python",
   "pygments_lexer": "ipython3",
   "version": "3.6.0"
  }
 },
 "nbformat": 4,
 "nbformat_minor": 2
}
